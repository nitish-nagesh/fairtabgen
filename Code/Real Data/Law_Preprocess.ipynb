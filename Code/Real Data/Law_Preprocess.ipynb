{
 "cells": [
  {
   "cell_type": "code",
   "execution_count": 7,
   "id": "c26e528c",
   "metadata": {},
   "outputs": [
    {
     "name": "stdout",
     "output_type": "stream",
     "text": [
      "✅ Finished. Saved: bar_pass_prediction (processed version).csv\n"
     ]
    }
   ],
   "source": [
    "import pandas as pd\n",
    "\n",
    "# Load raw dataset\n",
    "df = pd.read_csv(\"bar_pass_prediction.csv\")\n",
    "\n",
    "# Keep relevant columns\n",
    "columns_to_keep = ['sex', 'race', 'lsat', 'ugpa', 'tier', 'zfygpa', 'bar']\n",
    "df = df[columns_to_keep].copy()\n",
    "\n",
    "# Map bar outcomes to binary target\n",
    "pass_values = ['a Passed 1st time', 'b Passed 2nd time']\n",
    "df['bar_passed'] = df['bar'].apply(lambda x: 1 if x in pass_values else 0)\n",
    "\n",
    "# Drop the original 'bar' column\n",
    "df.drop(columns=['bar'], inplace=True)\n",
    "\n",
    "# Drop rows with missing values\n",
    "df.dropna(inplace=True)\n",
    "\n",
    "# Encode categorical columns\n",
    "df['sex'] = df['sex'].astype('category').cat.codes\n",
    "df['race'] = df['race'].astype('category').cat.codes\n",
    "\n",
    "# Save final processed version\n",
    "df.to_csv(\"bar_pass_prediction (processed version).csv\", index=False)\n",
    "\n",
    "print(\"✅ Finished. Saved: bar_pass_prediction (processed version).csv\")\n"
   ]
  }
 ],
 "metadata": {
  "kernelspec": {
   "display_name": "base",
   "language": "python",
   "name": "python3"
  },
  "language_info": {
   "codemirror_mode": {
    "name": "ipython",
    "version": 3
   },
   "file_extension": ".py",
   "mimetype": "text/x-python",
   "name": "python",
   "nbconvert_exporter": "python",
   "pygments_lexer": "ipython3",
   "version": "3.9.7"
  }
 },
 "nbformat": 4,
 "nbformat_minor": 5
}
