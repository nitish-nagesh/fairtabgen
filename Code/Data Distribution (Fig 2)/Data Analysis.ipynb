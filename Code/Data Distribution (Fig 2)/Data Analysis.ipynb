{
 "cells": [
  {
   "cell_type": "code",
   "execution_count": 3,
   "id": "fff9f283",
   "metadata": {},
   "outputs": [
    {
     "name": "stdout",
     "output_type": "stream",
     "text": [
      "📊 Race distribution (%):\n",
      "Real Data:\n",
      "race\n",
      "WHITE                     81.77\n",
      "BLACK/AFRICAN AMERICAN    18.23\n",
      "Name: proportion, dtype: float64\n",
      "\n",
      "Synthetic Data:\n",
      "race\n",
      "WHITE                     51.02\n",
      "BLACK/AFRICAN AMERICAN    48.98\n",
      "Name: proportion, dtype: float64\n"
     ]
    }
   ],
   "source": [
    "import pandas as pd\n",
    "from sdmetrics.visualization import get_column_plot, get_column_pair_plot\n",
    "\n",
    "# === Load data ===\n",
    "real_data = pd.read_csv(\"Real_MIMIC.csv\")\n",
    "synthetic_data = pd.read_csv(\"generated_data_Our_prompts_MIMIC.csv\")\n",
    "\n",
    "# === Binarize the label in real data\n",
    "real_data = real_data.copy()\n",
    "real_data[\"label\"] = (real_data[\"los_seconds\"] >= 345600).astype(int)\n",
    "\n",
    "# === Optional: convert sensitive features to string (for bar plots)\n",
    "for col in ['race', 'gender']:\n",
    "    if col in real_data.columns:\n",
    "        real_data[col] = real_data[col].astype(str)\n",
    "    if col in synthetic_data.columns:\n",
    "        synthetic_data[col] = synthetic_data[col].astype(str)\n",
    "\n",
    "# === Print bar values for race ===\n",
    "print(\"📊 Race distribution (%):\")\n",
    "print(\"Real Data:\")\n",
    "print(real_data[\"race\"].value_counts(normalize=True).mul(100).round(2))\n",
    "print(\"\\nSynthetic Data:\")\n",
    "print(synthetic_data[\"race\"].value_counts(normalize=True).mul(100).round(2))\n"
   ]
  },
  {
   "cell_type": "code",
   "execution_count": 4,
   "id": "4bd4626c",
   "metadata": {},
   "outputs": [
    {
     "name": "stdout",
     "output_type": "stream",
     "text": [
      "📊 Gender distribution (%):\n",
      "Real Data:\n",
      "gender\n",
      "F    51.67\n",
      "M    48.33\n",
      "Name: proportion, dtype: float64\n",
      "\n",
      "Synthetic Data:\n",
      "gender\n",
      "F    50.38\n",
      "M    49.62\n",
      "Name: proportion, dtype: float64\n"
     ]
    }
   ],
   "source": [
    "import pandas as pd\n",
    "from sdmetrics.visualization import get_column_plot, get_column_pair_plot\n",
    "\n",
    "# === Load data ===\n",
    "real_data = pd.read_csv(\"Real_MIMIC.csv\")\n",
    "synthetic_data = pd.read_csv(\"generated_data_Our_prompts_MIMIC.csv\")\n",
    "\n",
    "# === Binarize real los_seconds into label\n",
    "real_data = real_data.copy()\n",
    "real_data[\"label\"] = (real_data[\"los_seconds\"] >= 345600).astype(int)\n",
    "\n",
    "# === Ensure 'gender' column is string for bar plots\n",
    "real_data[\"gender\"] = real_data[\"gender\"].astype(str)\n",
    "synthetic_data[\"gender\"] = synthetic_data[\"gender\"].astype(str)\n",
    "\n",
    "# === Print gender distribution (%)\n",
    "print(\"📊 Gender distribution (%):\")\n",
    "print(\"Real Data:\")\n",
    "print(real_data[\"gender\"].value_counts(normalize=True).mul(100).round(2))\n",
    "print(\"\\nSynthetic Data:\")\n",
    "print(synthetic_data[\"gender\"].value_counts(normalize=True).mul(100).round(2))\n"
   ]
  },
  {
   "cell_type": "code",
   "execution_count": 5,
   "id": "b7dd0f88",
   "metadata": {},
   "outputs": [
    {
     "name": "stdout",
     "output_type": "stream",
     "text": [
      "\n",
      "🔍 Real Data Race Distribution:\n",
      "  African-American: 3175 samples (60.16%)\n",
      "  Caucasian: 2103 samples (39.84%)\n",
      "\n",
      "🔍 Synthetic Data Race Distribution:\n",
      "  African-American: 539 samples (53.9%)\n",
      "  Caucasian: 461 samples (46.1%)\n"
     ]
    }
   ],
   "source": [
    "import pandas as pd\n",
    "from sdmetrics.visualization import get_column_plot\n",
    "\n",
    "# === Load datasets\n",
    "real_data = pd.read_csv(\"compas_cleaned.csv\")\n",
    "synthetic_data = pd.read_csv(\"generated_data_Our_prompt_COMPAS.csv\")\n",
    "\n",
    "# === Create unified 'race' column\n",
    "for df in [real_data, synthetic_data]:\n",
    "    df[\"race\"] = df[\"race_African-American\"].apply(lambda x: \"African-American\" if x == 1 else \"Caucasian\")\n",
    "    df[\"race\"] = df[\"race\"].astype(str)\n",
    "\n",
    "# === Print bar values\n",
    "def print_bar_values(df, label):\n",
    "    counts = df[\"race\"].value_counts().sort_index()\n",
    "    percentages = round(df[\"race\"].value_counts(normalize=True).sort_index() * 100, 2)\n",
    "    print(f\"\\n🔍 {label} Race Distribution:\")\n",
    "    for race in counts.index:\n",
    "        print(f\"  {race}: {counts[race]} samples ({percentages[race]}%)\")\n",
    "\n",
    "print_bar_values(real_data, \"Real Data\")\n",
    "print_bar_values(synthetic_data, \"Synthetic Data\")\n"
   ]
  },
  {
   "cell_type": "code",
   "execution_count": 6,
   "id": "cf6fdfb8",
   "metadata": {},
   "outputs": [
    {
     "name": "stdout",
     "output_type": "stream",
     "text": [
      "\n",
      "🔍 Real Data Sex Distribution:\n",
      "  Male: 4247 samples (80.47%)\n",
      "  nan: 1031 samples (19.53%)\n",
      "\n",
      "🔍 Synthetic Data Sex Distribution:\n",
      "  Male: 623 samples (62.3%)\n",
      "  nan: 377 samples (37.7%)\n"
     ]
    }
   ],
   "source": [
    "import pandas as pd\n",
    "from sdmetrics.visualization import get_column_plot\n",
    "\n",
    "# === Load datasets\n",
    "real_data = pd.read_csv(\"compas_cleaned.csv\")\n",
    "synthetic_data = pd.read_csv(\"generated_data_Our_prompt_COMPAS.csv\")\n",
    "\n",
    "# === Convert 'sex' to readable string (if numeric)\n",
    "real_data[\"sex\"] = real_data[\"sex\"].map({1: \"Male\", 2: \"Female\"}).astype(str)\n",
    "synthetic_data[\"sex\"] = synthetic_data[\"sex\"].map({1: \"Male\", 2: \"Female\"}).astype(str)\n",
    "\n",
    "# === Print bar values\n",
    "def print_bar_values(df, label, column):\n",
    "    counts = df[column].value_counts().sort_index()\n",
    "    percentages = round(df[column].value_counts(normalize=True).sort_index() * 100, 2)\n",
    "    print(f\"\\n🔍 {label} {column.capitalize()} Distribution:\")\n",
    "    for cat in counts.index:\n",
    "        print(f\"  {cat}: {counts[cat]} samples ({percentages[cat]}%)\")\n",
    "\n",
    "print_bar_values(real_data, \"Real Data\", \"sex\")\n",
    "print_bar_values(synthetic_data, \"Synthetic Data\", \"sex\")\n"
   ]
  },
  {
   "cell_type": "code",
   "execution_count": 7,
   "id": "ae75310a",
   "metadata": {},
   "outputs": [
    {
     "name": "stdout",
     "output_type": "stream",
     "text": [
      "\n",
      "🔍 Real Data — Race Distribution:\n",
      " American Indian / Alaska Native: 98 samples (0.46%)\n",
      " Asian: 839 samples (3.94%)\n",
      " Black / African American: 1278 samples (6.00%)\n",
      " Hispanic / Latino: 387 samples (1.82%)\n",
      " Native Hawaiian / Pacific Islander: 109 samples (0.51%)\n",
      " Other: 483 samples (2.27%)\n",
      " Two or more races: 287 samples (1.35%)\n",
      " White: 17830 samples (83.67%)\n",
      "\n",
      "🔍 Synthetic Data — Race Distribution:\n",
      " American Indian / Alaska Native: 253 samples (12.46%)\n",
      " Asian: 256 samples (12.61%)\n",
      " Black / African American: 257 samples (12.66%)\n",
      " Hispanic / Latino: 255 samples (12.56%)\n",
      " Native Hawaiian / Pacific Islander: 261 samples (12.86%)\n",
      " Other: 253 samples (12.46%)\n",
      " Two or more races: 250 samples (12.32%)\n",
      " White: 245 samples (12.07%)\n"
     ]
    }
   ],
   "source": [
    "import pandas as pd\n",
    "from sdmetrics.visualization import get_column_plot\n",
    "\n",
    "# === Load datasets\n",
    "real_data = pd.read_csv(\"bar_pass_prediction (processed version).csv\")\n",
    "synthetic_data = pd.read_csv(\"generated_data_Our_prompts_Law.csv\")\n",
    "\n",
    "# === Mapping race codes to labels\n",
    "race_labels = {\n",
    "    1: \"American Indian / Alaska Native\",\n",
    "    2: \"Asian\",\n",
    "    3: \"Black / African American\",\n",
    "    4: \"Hispanic / Latino\",\n",
    "    5: \"Native Hawaiian / Pacific Islander\",\n",
    "    6: \"Other\",\n",
    "    7: \"White\",\n",
    "    8: \"Two or more races\"\n",
    "}\n",
    "\n",
    "# === Map race codes to string labels\n",
    "real_data[\"race\"] = real_data[\"race\"].map(race_labels).fillna(\"Unknown\")\n",
    "synthetic_data[\"race\"] = synthetic_data[\"race\"].map(race_labels).fillna(\"Unknown\")\n",
    "\n",
    "# === Print value counts and percentages\n",
    "def print_bar_values(df, label, column):\n",
    "    print(f\"\\n🔍 {label} — {column.capitalize()} Distribution:\")\n",
    "    counts = df[column].value_counts().sort_index()\n",
    "    percentages = df[column].value_counts(normalize=True).sort_index() * 100\n",
    "    for value in counts.index:\n",
    "        print(f\" {value}: {counts[value]} samples ({percentages[value]:.2f}%)\")\n",
    "\n",
    "print_bar_values(real_data, \"Real Data\", \"race\")\n",
    "print_bar_values(synthetic_data, \"Synthetic Data\", \"race\")\n",
    "\n",
    "\n"
   ]
  },
  {
   "cell_type": "code",
   "execution_count": 10,
   "id": "16f013ac",
   "metadata": {},
   "outputs": [
    {
     "name": "stdout",
     "output_type": "stream",
     "text": [
      "📊 Sex Distribution (%):\n",
      "Sex = 1 → Real: 43.63%, Synthetic: 50.39%\n",
      "Sex = 2 → Real: 56.37%, Synthetic: 49.61%\n"
     ]
    }
   ],
   "source": [
    "import pandas as pd\n",
    "from sdmetrics.visualization import get_column_plot\n",
    "\n",
    "# === Load data ===\n",
    "real_data = pd.read_csv(\"bar_pass_prediction (processed version).csv\")\n",
    "synthetic_data = pd.read_csv(\"generated_data_Our_prompts_Law.csv\")\n",
    "\n",
    "# === Convert 'sex' column to string for plotting\n",
    "real_data[\"sex\"] = real_data[\"sex\"].astype(str)\n",
    "synthetic_data[\"sex\"] = synthetic_data[\"sex\"].astype(str)\n",
    "\n",
    "# === Show bar values\n",
    "real_counts = real_data[\"sex\"].value_counts(normalize=True).sort_index() * 100\n",
    "synth_counts = synthetic_data[\"sex\"].value_counts(normalize=True).sort_index() * 100\n",
    "\n",
    "print(\"📊 Sex Distribution (%):\")\n",
    "for val in sorted(set(real_data[\"sex\"].unique()) | set(synthetic_data[\"sex\"].unique())):\n",
    "    r = real_counts.get(val, 0)\n",
    "    s = synth_counts.get(val, 0)\n",
    "    print(f\"Sex = {val} → Real: {r:.2f}%, Synthetic: {s:.2f}%\")\n",
    "\n"
   ]
  }
 ],
 "metadata": {
  "kernelspec": {
   "display_name": "base",
   "language": "python",
   "name": "python3"
  },
  "language_info": {
   "codemirror_mode": {
    "name": "ipython",
    "version": 3
   },
   "file_extension": ".py",
   "mimetype": "text/x-python",
   "name": "python",
   "nbconvert_exporter": "python",
   "pygments_lexer": "ipython3",
   "version": "3.9.7"
  }
 },
 "nbformat": 4,
 "nbformat_minor": 5
}
